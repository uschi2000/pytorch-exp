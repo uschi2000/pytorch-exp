{
 "cells": [
  {
   "cell_type": "code",
   "execution_count": 19,
   "metadata": {},
   "outputs": [],
   "source": [
    "import torch\n",
    "import torchvision\n",
    "from torchvision import transforms\n",
    "import digits_dataset\n",
    "\n",
    "transform = torchvision.transforms.Compose(\n",
    "    [\n",
    "    transforms.Resize((28, 28)),\n",
    "    transforms.Grayscale(1),\n",
    "    transforms.ToTensor(),\n",
    "    transforms.Normalize((0.5,), (0.5,))])\n",
    "\n",
    "trainset = torchvision.datasets.MNIST(root='./data', train=True,\n",
    "                                      download=True, transform=transform)\n",
    "train_loader = torch.utils.data.DataLoader(trainset, batch_size=5,\n",
    "                                          shuffle=True)\n",
    "\n",
    "digit_trainset = digits_dataset.MnistWithPrintWriterLabels(trainset, \n",
    "                                            \"./data/digits/target\",\n",
    "                                            digit_transform=transform)\n",
    "digit_trainset_loader = torch.utils.data.DataLoader(digit_trainset, batch_size=5,\n",
    "                                                    shuffle=True)\n",
    "\n",
    "testset = torchvision.datasets.MNIST(root='./data', train=False,\n",
    "                                     download=True, transform=transform)\n",
    "\n",
    "test_loader = torch.utils.data.DataLoader(testset, batch_size=4,\n",
    "                                         shuffle=False, num_workers=1)"
   ]
  },
  {
   "cell_type": "code",
   "execution_count": 20,
   "metadata": {},
   "outputs": [
    {
     "data": {
      "image/png": "[encoded data removed]",
      "text/plain": [
       "<Figure size 432x288 with 1 Axes>"
      ]
     },
     "metadata": {
      "needs_background": "light"
     },
     "output_type": "display_data"
    },
    {
     "name": "stdout",
     "output_type": "stream",
     "text": [
      "tensor(4) tensor(5) tensor(6) tensor(8) tensor(8)\n"
     ]
    },
    {
     "data": {
      "image/png": "[encoded data removed]",
      "text/plain": [
       "<Figure size 432x288 with 1 Axes>"
      ]
     },
     "metadata": {
      "needs_background": "light"
     },
     "output_type": "display_data"
    },
    {
     "data": {
      "image/png": "[encoded data removed]",
      "text/plain": [
       "<Figure size 432x288 with 1 Axes>"
      ]
     },
     "metadata": {
      "needs_background": "light"
     },
     "output_type": "display_data"
    }
   ],
   "source": [
    "from util import imshow\n",
    "\n",
    "images, labels = iter(train_loader).next()\n",
    "imshow(torchvision.utils.make_grid(images))\n",
    "print(' '.join('%5s' % labels[j] for j in range(5)))\n",
    "\n",
    "images, digits = iter(digit_trainset_loader).next()\n",
    "imshow(torchvision.utils.make_grid(images))\n",
    "imshow(torchvision.utils.make_grid(digits))"
   ]
  },
  {
   "cell_type": "code",
   "execution_count": 15,
   "metadata": {},
   "outputs": [
    {
     "name": "stdout",
     "output_type": "stream",
     "text": [
      "Net(\n",
      "  (encoder): Sequential(\n",
      "    (0): Conv2d(1, 16, kernel_size=(3, 3), stride=(3, 3), padding=(1, 1))\n",
      "    (1): ReLU(inplace=True)\n",
      "    (2): MaxPool2d(kernel_size=2, stride=2, padding=0, dilation=1, ceil_mode=False)\n",
      "    (3): Conv2d(16, 8, kernel_size=(3, 3), stride=(2, 2), padding=(1, 1))\n",
      "    (4): ReLU(inplace=True)\n",
      "    (5): MaxPool2d(kernel_size=2, stride=1, padding=0, dilation=1, ceil_mode=False)\n",
      "  )\n",
      "  (classifier): Sequential(\n",
      "    (0): Linear(in_features=32, out_features=10, bias=True)\n",
      "  )\n",
      "  (unclassifier): Sequential(\n",
      "    (0): Linear(in_features=10, out_features=32, bias=True)\n",
      "  )\n",
      "  (decoder): Sequential(\n",
      "    (0): ConvTranspose2d(8, 16, kernel_size=(3, 3), stride=(2, 2))\n",
      "    (1): ReLU(inplace=True)\n",
      "    (2): ConvTranspose2d(16, 8, kernel_size=(5, 5), stride=(3, 3), padding=(1, 1))\n",
      "    (3): ReLU(inplace=True)\n",
      "    (4): ConvTranspose2d(8, 1, kernel_size=(2, 2), stride=(2, 2), padding=(1, 1))\n",
      "    (5): Tanh()\n",
      "  )\n",
      ")\n"
     ]
    }
   ],
   "source": [
    "from autoencoder import Net\n",
    "net = Net()\n",
    "print(net)"
   ]
  },
  {
   "cell_type": "code",
   "execution_count": 16,
   "metadata": {},
   "outputs": [
    {
     "name": "stdout",
     "output_type": "stream",
     "text": [
      "[1,  2000] loss: 1.339\n",
      "[1,  4000] loss: 0.475\n",
      "[1,  6000] loss: 0.355\n",
      "[1,  8000] loss: 0.335\n",
      "[1, 10000] loss: 0.275\n",
      "[1, 12000] loss: 0.292\n",
      "[2,  2000] loss: 0.255\n",
      "[2,  4000] loss: 0.263\n",
      "[2,  6000] loss: 0.238\n",
      "[2,  8000] loss: 0.224\n",
      "[2, 10000] loss: 0.235\n",
      "[2, 12000] loss: 0.216\n",
      "Finished Training\n"
     ]
    }
   ],
   "source": [
    "import torch.optim as optim\n",
    "import torch.nn as nn\n",
    "from trainer import train\n",
    "\n",
    "# Train encoder\n",
    "params = net.set_train_encoder()\n",
    "optimizer = optim.SGD(params, lr=0.001, momentum=0.9)\n",
    "criterion = nn.CrossEntropyLoss()\n",
    "train(net, train_loader, optimizer, criterion, 2)"
   ]
  },
  {
   "cell_type": "code",
   "execution_count": 17,
   "metadata": {},
   "outputs": [
    {
     "name": "stdout",
     "output_type": "stream",
     "text": [
      "[1,  2000] loss: 0.100\n",
      "[1,  4000] loss: 0.036\n",
      "[1,  6000] loss: 0.030\n",
      "[1,  8000] loss: 0.028\n",
      "[1, 10000] loss: 0.026\n",
      "[1, 12000] loss: 0.026\n",
      "[2,  2000] loss: 0.025\n",
      "[2,  4000] loss: 0.023\n",
      "[2,  6000] loss: 0.023\n",
      "[2,  8000] loss: 0.023\n",
      "[2, 10000] loss: 0.022\n",
      "[2, 12000] loss: 0.021\n",
      "Finished Training\n"
     ]
    }
   ],
   "source": [
    "# Train decoder\n",
    "# Important: Only pass those parameters to the optimizer that should get updated.\n",
    "# The optimizer will change weights unless the gradient is 'None', i.e., the\n",
    "# interaction between the optimizer and require_grad is not so obvious. Alternatively,\n",
    "# we could set the encoder weights to None explicitly in Net::set_train_decoder,\n",
    "# but that seems more of a hack.\n",
    "# Compare https://github.com/pytorch/pytorch/blob/master/torch/optim/adam.py#L62\n",
    "params = net.set_train_decoder()\n",
    "optimizer = torch.optim.Adam(params, lr=1e-3, weight_decay=1e-5)\n",
    "criterion = nn.MSELoss()\n",
    "train(net, digit_trainset_loader, optimizer, criterion, 2)"
   ]
  },
  {
   "cell_type": "code",
   "execution_count": 18,
   "metadata": {},
   "outputs": [
    {
     "data": {
      "image/png": "[encoded data removed]",
      "text/plain": [
       "<Figure size 432x288 with 1 Axes>"
      ]
     },
     "metadata": {
      "needs_background": "light"
     },
     "output_type": "display_data"
    },
    {
     "name": "stdout",
     "output_type": "stream",
     "text": [
      "GroundTruth:  tensor(7) tensor(2) tensor(1) tensor(0)\n",
      "Predicted:  tensor(7) tensor(2) tensor(1) tensor(0)\n"
     ]
    },
    {
     "data": {
      "image/png": "[encoded data removed]",
      "text/plain": [
       "<Figure size 432x288 with 1 Axes>"
      ]
     },
     "metadata": {
      "needs_background": "light"
     },
     "output_type": "display_data"
    }
   ],
   "source": [
    "images, labels = iter(test_loader).next()\n",
    "\n",
    "# print images\n",
    "imshow(torchvision.utils.make_grid(images))\n",
    "print('GroundTruth: ', ' '.join('%5s' % labels[j] for j in range(4)))\n",
    "\n",
    "# Test encoder\n",
    "net.set_eval_encoder()\n",
    "outputs = net(images)\n",
    "_, predicted = torch.max(outputs, 1)\n",
    "print('Predicted: ', ' '.join('%5s' % predicted[j] for j in range(4)))\n",
    "\n",
    "# Test decoder\n",
    "net.set_eval_decoder()\n",
    "outputs = net(images).detach()\n",
    "imshow(torchvision.utils.make_grid(outputs))\n"
   ]
  }
 ],
 "metadata": {
  "kernelspec": {
   "display_name": "ds",
   "language": "python",
   "name": "ds"
  },
  "language_info": {
   "codemirror_mode": {
    "name": "ipython",
    "version": 3
   },
   "file_extension": ".py",
   "mimetype": "text/x-python",
   "name": "python",
   "nbconvert_exporter": "python",
   "pygments_lexer": "ipython3",
   "version": "3.7.4"
  }
 },
 "nbformat": 4,
 "nbformat_minor": 2
}
