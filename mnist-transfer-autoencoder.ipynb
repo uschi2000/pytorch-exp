{
 "cells": [
  {
   "cell_type": "code",
   "execution_count": 1,
   "metadata": {},
   "outputs": [],
   "source": [
    "import torch\n",
    "import torchvision\n",
    "from torchvision import transforms\n",
    "import digits_dataset\n",
    "\n",
    "transform = torchvision.transforms.Compose(\n",
    "    [\n",
    "    transforms.Resize((28, 28)),\n",
    "    transforms.Grayscale(1),\n",
    "    transforms.ToTensor(),\n",
    "    transforms.Normalize((0.5,), (0.5,))])\n",
    "\n",
    "trainset = torchvision.datasets.MNIST(root='./data', train=True,\n",
    "                                      download=True, transform=transform)\n",
    "train_loader = torch.utils.data.DataLoader(trainset, batch_size=5,\n",
    "                                          shuffle=True)\n",
    "\n",
    "label_transform = lambda l: l\n",
    "digit_trainset = digits_dataset.MnistWithPrintWriterLabels(trainset, \n",
    "                                            \"./data/digits\",\n",
    "                                            digit_transform=transform,\n",
    "                                                          label_transform=lambda l: label_transform(l))\n",
    "digit_trainset_loader = torch.utils.data.DataLoader(digit_trainset, batch_size=5,\n",
    "                                                    shuffle=True)\n",
    "\n",
    "testset = torchvision.datasets.MNIST(root='./data', train=False,\n",
    "                                     download=True, transform=transform)\n",
    "\n",
    "test_loader = torch.utils.data.DataLoader(testset, batch_size=4,\n",
    "                                         shuffle=False, num_workers=1)"
   ]
  },
  {
   "cell_type": "code",
   "execution_count": 3,
   "metadata": {},
   "outputs": [
    {
     "data": {
      "image/png": "[encoded data removed]",
      "text/plain": [
       "<Figure size 432x288 with 1 Axes>"
      ]
     },
     "metadata": {
      "needs_background": "light"
     },
     "output_type": "display_data"
    },
    {
     "name": "stdout",
     "output_type": "stream",
     "text": [
      "tensor(5) tensor(1) tensor(3) tensor(1) tensor(1)\n"
     ]
    },
    {
     "data": {
      "image/png": "[encoded data removed]",
      "text/plain": [
       "<Figure size 432x288 with 1 Axes>"
      ]
     },
     "metadata": {
      "needs_background": "light"
     },
     "output_type": "display_data"
    },
    {
     "data": {
      "image/png": "[encoded data removed]",
      "text/plain": [
       "<Figure size 432x288 with 1 Axes>"
      ]
     },
     "metadata": {
      "needs_background": "light"
     },
     "output_type": "display_data"
    }
   ],
   "source": [
    "from util import imshow\n",
    "\n",
    "images, labels = iter(train_loader).next()\n",
    "imshow(torchvision.utils.make_grid(images))\n",
    "print(' '.join('%5s' % labels[j] for j in range(5)))\n",
    "\n",
    "images, digits = iter(digit_trainset_loader).next()\n",
    "imshow(torchvision.utils.make_grid(images))\n",
    "imshow(torchvision.utils.make_grid(digits))"
   ]
  },
  {
   "cell_type": "code",
   "execution_count": 4,
   "metadata": {},
   "outputs": [
    {
     "name": "stdout",
     "output_type": "stream",
     "text": [
      "Net(\n",
      "  (encoder): Sequential(\n",
      "    (0): Conv2d(1, 16, kernel_size=(3, 3), stride=(3, 3), padding=(1, 1))\n",
      "    (1): ReLU(inplace=True)\n",
      "    (2): MaxPool2d(kernel_size=2, stride=2, padding=0, dilation=1, ceil_mode=False)\n",
      "    (3): Conv2d(16, 8, kernel_size=(3, 3), stride=(2, 2), padding=(1, 1))\n",
      "    (4): ReLU(inplace=True)\n",
      "    (5): MaxPool2d(kernel_size=2, stride=1, padding=0, dilation=1, ceil_mode=False)\n",
      "  )\n",
      "  (classifier): Sequential(\n",
      "    (0): Linear(in_features=32, out_features=10, bias=True)\n",
      "  )\n",
      "  (unclassifier): Sequential(\n",
      "    (0): Linear(in_features=10, out_features=32, bias=True)\n",
      "  )\n",
      "  (decoder): Sequential(\n",
      "    (0): ConvTranspose2d(8, 16, kernel_size=(3, 3), stride=(2, 2))\n",
      "    (1): ReLU(inplace=True)\n",
      "    (2): ConvTranspose2d(16, 8, kernel_size=(5, 5), stride=(3, 3), padding=(1, 1))\n",
      "    (3): ReLU(inplace=True)\n",
      "    (4): ConvTranspose2d(8, 1, kernel_size=(2, 2), stride=(2, 2), padding=(1, 1))\n",
      "    (5): Tanh()\n",
      "  )\n",
      ")\n"
     ]
    }
   ],
   "source": [
    "from autoencoder import Net\n",
    "net = Net()\n",
    "print(net)"
   ]
  },
  {
   "cell_type": "code",
   "execution_count": 5,
   "metadata": {},
   "outputs": [
    {
     "name": "stdout",
     "output_type": "stream",
     "text": [
      "[1,  2000] loss: 1.346\n",
      "[1,  4000] loss: 0.577\n",
      "[1,  6000] loss: 0.425\n",
      "[1,  8000] loss: 0.357\n",
      "[1, 10000] loss: 0.338\n",
      "[1, 12000] loss: 0.290\n",
      "Finished Training\n"
     ]
    }
   ],
   "source": [
    "import torch.optim as optim\n",
    "import torch.nn as nn\n",
    "from trainer import train\n",
    "\n",
    "# Train encoder\n",
    "params = net.set_train_encoder()\n",
    "optimizer = optim.SGD(params, lr=0.001, momentum=0.9)\n",
    "criterion = nn.CrossEntropyLoss()\n",
    "train(net, train_loader, optimizer, criterion, 1)"
   ]
  },
  {
   "cell_type": "code",
   "execution_count": 6,
   "metadata": {},
   "outputs": [
    {
     "name": "stdout",
     "output_type": "stream",
     "text": [
      "[1,  2000] loss: 0.094\n",
      "[1,  4000] loss: 0.033\n",
      "[1,  6000] loss: 0.028\n",
      "[1,  8000] loss: 0.026\n",
      "[1, 10000] loss: 0.025\n",
      "[1, 12000] loss: 0.025\n",
      "Finished Training\n"
     ]
    }
   ],
   "source": [
    "# Train decoder\n",
    "# Important: Only pass those parameters to the optimizer that should get updated.\n",
    "# The optimizer will change weights unless the gradient is 'None', i.e., the\n",
    "# interaction between the optimizer and require_grad is not so obvious. Alternatively,\n",
    "# we could set the encoder weights to None explicitly in Net::set_train_decoder,\n",
    "# but that seems more of a hack.\n",
    "# Compare https://github.com/pytorch/pytorch/blob/master/torch/optim/adam.py#L62\n",
    "params = net.set_train_decoder()\n",
    "optimizer = torch.optim.Adam(params, lr=1e-3, weight_decay=1e-5)\n",
    "criterion = nn.MSELoss()\n",
    "train(net, digit_trainset_loader, optimizer, criterion, 1)"
   ]
  },
  {
   "cell_type": "code",
   "execution_count": 9,
   "metadata": {},
   "outputs": [
    {
     "data": {
      "image/png": "[encoded data removed]",
      "text/plain": [
       "<Figure size 432x288 with 1 Axes>"
      ]
     },
     "metadata": {
      "needs_background": "light"
     },
     "output_type": "display_data"
    },
    {
     "name": "stdout",
     "output_type": "stream",
     "text": [
      "GroundTruth:  tensor(7) tensor(2) tensor(1) tensor(0)\n",
      "Predicted:  tensor(7) tensor(2) tensor(1) tensor(0)\n"
     ]
    },
    {
     "data": {
      "image/png": "[encoded data removed]",
      "text/plain": [
       "<Figure size 432x288 with 1 Axes>"
      ]
     },
     "metadata": {
      "needs_background": "light"
     },
     "output_type": "display_data"
    }
   ],
   "source": [
    "images, labels = iter(test_loader).next()\n",
    "\n",
    "# print images\n",
    "imshow(torchvision.utils.make_grid(images))\n",
    "print('GroundTruth: ', ' '.join('%5s' % labels[j] for j in range(len(images))))\n",
    "\n",
    "# Test encoder\n",
    "net.set_eval_encoder()\n",
    "outputs = net(images)\n",
    "_, predicted = torch.max(outputs, 1)\n",
    "print('Predicted: ', ' '.join('%5s' % predicted[j] for j in range(len(images))))\n",
    "\n",
    "# Test decoder\n",
    "net.set_eval_decoder()\n",
    "outputs = net(images)\n",
    "imshow(torchvision.utils.make_grid(outputs))\n"
   ]
  },
  {
   "cell_type": "code",
   "execution_count": null,
   "metadata": {},
   "outputs": [
    {
     "name": "stdout",
     "output_type": "stream",
     "text": [
      "[1,  2000] loss: 0.053\n",
      "[1,  4000] loss: 0.034\n"
     ]
    }
   ],
   "source": [
    "label_transform = lambda l: (int(l) + 5) % 10\n",
    "params = net.set_train_decoder()\n",
    "optimizer = torch.optim.Adam(params, lr=1e-3, weight_decay=1e-5)\n",
    "criterion = nn.MSELoss()\n",
    "train(net, digit_trainset_loader, optimizer, criterion, 1)"
   ]
  },
  {
   "cell_type": "code",
   "execution_count": null,
   "metadata": {},
   "outputs": [],
   "source": []
  }
 ],
 "metadata": {
  "kernelspec": {
   "display_name": "ds",
   "language": "python",
   "name": "ds"
  },
  "language_info": {
   "codemirror_mode": {
    "name": "ipython",
    "version": 3
   },
   "file_extension": ".py",
   "mimetype": "text/x-python",
   "name": "python",
   "nbconvert_exporter": "python",
   "pygments_lexer": "ipython3",
   "version": "3.7.4"
  }
 },
 "nbformat": 4,
 "nbformat_minor": 2
}
