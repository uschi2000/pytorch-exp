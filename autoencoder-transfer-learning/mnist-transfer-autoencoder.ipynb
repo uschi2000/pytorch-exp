{
 "cells": [
  {
   "cell_type": "markdown",
   "metadata": {},
   "source": [
    "## MNIST autoencoder with transfer learning\n",
    "\n",
    "This workbook demonstrates how to build and train a PyTorch model to \"transcribe\" MNIST digits into a different font: Given an MNIST digit as input, the network outputs the same digit in a typewriter font. Note that this is mostly an academic exercise and likely not super useful in reality; I put this together as my first experiment with the PyTorch framework in order to learn how to implement transfer learning in PyTorch.\n",
    "\n",
    "The source code for the model is in [autoencoder.py](autoencoder.py) and for the standard PyTorch training loop in [trainer.py](trainer.py).\n",
    "\n",
    "The model is taken from [pytorch-beginner](https://github.com/L1aoXingyu/pytorch-beginner/blob/master/08-AutoEncoder/conv_autoencoder.py) and adapted for transfer learning: we first train a digit *classifier* with the encoder portion of the network (plus a final 10-neuron Linear layer), and then train the decoder portion of the network (without adjusting any of the encoder weights) w.r.t. handcrafted label images (see [data/digits](data/digits)) with a different font."
   ]
  },
  {
   "cell_type": "code",
   "execution_count": 1,
   "metadata": {
    "scrolled": true
   },
   "outputs": [],
   "source": [
    "# Load data\n",
    "\n",
    "import torch\n",
    "import torchvision\n",
    "from torchvision import transforms\n",
    "import digits_dataset\n",
    "\n",
    "transform = torchvision.transforms.Compose(\n",
    "    [\n",
    "    transforms.Resize((28, 28)),\n",
    "    transforms.Grayscale(1),\n",
    "    transforms.ToTensor(),\n",
    "    transforms.Normalize((0.5,), (0.5,))])\n",
    "\n",
    "# The standard MNIST dataset with handwritten digits plus labels.\n",
    "trainset = torchvision.datasets.MNIST(root='./data', train=True,\n",
    "                                      download=True, transform=transform)\n",
    "train_loader = torch.utils.data.DataLoader(trainset, batch_size=5,\n",
    "                                          shuffle=True)\n",
    "\n",
    "# The digit training set is used to train the encoder portion of the network.\n",
    "label_transform = lambda l: l  # We'll use the label_transform further down.\n",
    "digit_trainset = digits_dataset.MnistWithPrintWriterLabels(trainset, \n",
    "                                            \"./data/digits\",\n",
    "                                            digit_transform=transform,\n",
    "                                                          label_transform=lambda l: label_transform(l))\n",
    "digit_trainset_loader = torch.utils.data.DataLoader(digit_trainset, batch_size=5,\n",
    "                                                    shuffle=True)\n",
    "\n",
    "# Test dataset\n",
    "testset = torchvision.datasets.MNIST(root='./data', train=False,\n",
    "                                     download=True, transform=transform)\n",
    "\n",
    "test_loader = torch.utils.data.DataLoader(testset, batch_size=4,\n",
    "                                         shuffle=False, num_workers=1)"
   ]
  },
  {
   "cell_type": "code",
   "execution_count": 3,
   "metadata": {},
   "outputs": [
    {
     "data": {
      "image/png": "[encoded data removed]",
      "text/plain": [
       "<Figure size 432x288 with 1 Axes>"
      ]
     },
     "metadata": {
      "needs_background": "light"
     },
     "output_type": "display_data"
    },
    {
     "name": "stdout",
     "output_type": "stream",
     "text": [
      "tensor(5) tensor(9) tensor(0) tensor(7) tensor(4)\n"
     ]
    },
    {
     "data": {
      "image/png": "[encoded data removed]",
      "text/plain": [
       "<Figure size 432x288 with 1 Axes>"
      ]
     },
     "metadata": {
      "needs_background": "light"
     },
     "output_type": "display_data"
    },
    {
     "data": {
      "image/png": "[encoded data removed]",
      "text/plain": [
       "<Figure size 432x288 with 1 Axes>"
      ]
     },
     "metadata": {
      "needs_background": "light"
     },
     "output_type": "display_data"
    }
   ],
   "source": [
    "# Show some sample MNIST digits, corresponding labels, and target font digits.\n",
    "\n",
    "from util import imshow\n",
    "\n",
    "images, labels = iter(train_loader).next()\n",
    "imshow(torchvision.utils.make_grid(images))\n",
    "print(' '.join('%5s' % labels[j] for j in range(5)))\n",
    "\n",
    "images, digits = iter(digit_trainset_loader).next()\n",
    "imshow(torchvision.utils.make_grid(images))\n",
    "imshow(torchvision.utils.make_grid(digits))"
   ]
  },
  {
   "cell_type": "code",
   "execution_count": 4,
   "metadata": {},
   "outputs": [
    {
     "name": "stdout",
     "output_type": "stream",
     "text": [
      "Net(\n",
      "  (encoder): Sequential(\n",
      "    (0): Conv2d(1, 16, kernel_size=(3, 3), stride=(3, 3), padding=(1, 1))\n",
      "    (1): ReLU(inplace=True)\n",
      "    (2): MaxPool2d(kernel_size=2, stride=2, padding=0, dilation=1, ceil_mode=False)\n",
      "    (3): Conv2d(16, 8, kernel_size=(3, 3), stride=(2, 2), padding=(1, 1))\n",
      "    (4): ReLU(inplace=True)\n",
      "    (5): MaxPool2d(kernel_size=2, stride=1, padding=0, dilation=1, ceil_mode=False)\n",
      "  )\n",
      "  (classifier): Sequential(\n",
      "    (0): Linear(in_features=32, out_features=10, bias=True)\n",
      "  )\n",
      "  (unclassifier): Sequential(\n",
      "    (0): Linear(in_features=10, out_features=32, bias=True)\n",
      "  )\n",
      "  (decoder): Sequential(\n",
      "    (0): ConvTranspose2d(8, 16, kernel_size=(3, 3), stride=(2, 2))\n",
      "    (1): ReLU(inplace=True)\n",
      "    (2): ConvTranspose2d(16, 8, kernel_size=(5, 5), stride=(3, 3), padding=(1, 1))\n",
      "    (3): ReLU(inplace=True)\n",
      "    (4): ConvTranspose2d(8, 1, kernel_size=(2, 2), stride=(2, 2), padding=(1, 1))\n",
      "    (5): Tanh()\n",
      "  )\n",
      ")\n"
     ]
    }
   ],
   "source": [
    "# Define network\n",
    "\n",
    "from autoencoder import Net\n",
    "net = Net()\n",
    "print(net)"
   ]
  },
  {
   "cell_type": "code",
   "execution_count": 5,
   "metadata": {},
   "outputs": [
    {
     "name": "stdout",
     "output_type": "stream",
     "text": [
      "[1,  2000] loss: 1.563\n",
      "[1,  4000] loss: 0.591\n",
      "[1,  6000] loss: 0.425\n",
      "[1,  8000] loss: 0.370\n",
      "[1, 10000] loss: 0.328\n",
      "[1, 12000] loss: 0.277\n",
      "Finished Training\n"
     ]
    }
   ],
   "source": [
    "# Train encoder\n",
    "\n",
    "import torch.optim as optim\n",
    "import torch.nn as nn\n",
    "from trainer import train\n",
    "\n",
    "# The Net::set_train_encoder function returns the set of parameters\n",
    "# in the encoder portion of the network. We pass those parameters to the\n",
    "# optimizer\n",
    "params = net.set_train_encoder()\n",
    "optimizer = optim.SGD(params, lr=0.001, momentum=0.9)\n",
    "criterion = nn.CrossEntropyLoss()\n",
    "train(net, train_loader, optimizer, criterion, 1)"
   ]
  },
  {
   "cell_type": "code",
   "execution_count": 6,
   "metadata": {},
   "outputs": [
    {
     "name": "stdout",
     "output_type": "stream",
     "text": [
      "[1,  2000] loss: 0.062\n",
      "[1,  4000] loss: 0.031\n",
      "[1,  6000] loss: 0.026\n",
      "[1,  8000] loss: 0.025\n",
      "[1, 10000] loss: 0.024\n",
      "[1, 12000] loss: 0.023\n",
      "Finished Training\n"
     ]
    }
   ],
   "source": [
    "# Train decoder\n",
    "\n",
    "# Important: Only pass those parameters to the optimizer that should get updated.\n",
    "# The optimizer will change weights unless the gradient is 'None', i.e., the\n",
    "# interaction between the optimizer and require_grad is not so obvious. Alternatively,\n",
    "# we could set the encoder weights to None explicitly in Net::set_train_decoder,\n",
    "# but that seems more of a hack.\n",
    "# Compare https://github.com/pytorch/pytorch/blob/master/torch/optim/adam.py#L62\n",
    "params = net.set_train_decoder()\n",
    "optimizer = torch.optim.Adam(params, lr=1e-3, weight_decay=1e-5)\n",
    "criterion = nn.MSELoss()\n",
    "train(net, digit_trainset_loader, optimizer, criterion, 1)"
   ]
  },
  {
   "cell_type": "code",
   "execution_count": 7,
   "metadata": {},
   "outputs": [
    {
     "data": {
      "image/png": "[encoded data removed]",
      "text/plain": [
       "<Figure size 432x288 with 1 Axes>"
      ]
     },
     "metadata": {
      "needs_background": "light"
     },
     "output_type": "display_data"
    },
    {
     "name": "stdout",
     "output_type": "stream",
     "text": [
      "GroundTruth:  tensor(7) tensor(2) tensor(1) tensor(0)\n",
      "Predicted by encoder portion of network:  tensor(7) tensor(2) tensor(1) tensor(0)\n"
     ]
    },
    {
     "data": {
      "image/png": "[encoded data removed]",
      "text/plain": [
       "<Figure size 432x288 with 1 Axes>"
      ]
     },
     "metadata": {
      "needs_background": "light"
     },
     "output_type": "display_data"
    }
   ],
   "source": [
    "# Test network\n",
    "\n",
    "images, labels = iter(test_loader).next()\n",
    "\n",
    "# Display input test images\n",
    "imshow(torchvision.utils.make_grid(images))\n",
    "print('GroundTruth: ', ' '.join('%5s' % labels[j] for j in range(len(images))))\n",
    "\n",
    "# Test encoder portion of the network\n",
    "net.set_eval_encoder()\n",
    "outputs = net(images)\n",
    "_, predicted = torch.max(outputs, 1)\n",
    "print('Predicted by encoder portion of network: ', ' '.join('%5s' % predicted[j] for j in range(len(images))))\n",
    "\n",
    "# Test decoder portion of the network\n",
    "net.set_eval_decoder()\n",
    "outputs = net(images)\n",
    "imshow(torchvision.utils.make_grid(outputs))\n"
   ]
  },
  {
   "cell_type": "markdown",
   "metadata": {},
   "source": [
    "At this point it seems pretty clear that the decoder network could learn to render any font. Clearly, it could also learn to render different digits, for instance it could increment the given input image. We show below that we can retrain the decoder network to render the input image plus 1 (modulo 10).\n",
    "\n",
    "When you think about this for the very first time, you may be a little confused: if the encoder learns to recognize a single digit, would it be pretty hard for the decoder to learn to render a completely different digit? The answer is quite obvious: the 10 neurons at the end of the encoder have no knowledge of the digit they represent, and so the subsequent decoder network can render them as it pleases.\n",
    "\n",
    "It's also worth consider a simple information theoretical perspective: how can the network possible render a full 28x28 pixel version of the 4 bit 0..9 digit represented by the middle layer of the network? Well, the 28x28 pixel representations are not encoded in the intermediate classifier, but in the weights of the decoder network. Back-of-the-envolope: 10 grey-scale (== 1 byte per pixel) images with 28x28 pixels need 10*28*28 = 7840 bytes; the decoder network has 6411 float parameters, i.e., 25644 bytes and thus about four times more \"information capacity\" to represent 10 digits."
   ]
  },
  {
   "cell_type": "code",
   "execution_count": 8,
   "metadata": {},
   "outputs": [
    {
     "name": "stdout",
     "output_type": "stream",
     "text": [
      "Number of float weights in decoder network: 6411\n"
     ]
    }
   ],
   "source": [
    "# Determine the number of parameters of the decoder network\n",
    "\n",
    "params = net.set_train_decoder()\n",
    "print(\"Number of float weights in decoder network:\", sum(p.numel() for p in net.parameters()))"
   ]
  },
  {
   "cell_type": "code",
   "execution_count": 9,
   "metadata": {},
   "outputs": [
    {
     "name": "stdout",
     "output_type": "stream",
     "text": [
      "[1,  2000] loss: 0.055\n",
      "[1,  4000] loss: 0.033\n",
      "[1,  6000] loss: 0.031\n",
      "[1,  8000] loss: 0.028\n",
      "[1, 10000] loss: 0.026\n",
      "[1, 12000] loss: 0.026\n",
      "Finished Training\n"
     ]
    }
   ],
   "source": [
    "# Retrain the decoder to render ((input + 1) mod 10).\n",
    "\n",
    "label_transform = lambda l: (int(l) + 1) % 10\n",
    "params = net.set_train_decoder()\n",
    "optimizer = torch.optim.Adam(params, lr=1e-3, weight_decay=1e-5)\n",
    "criterion = nn.MSELoss()\n",
    "train(net, digit_trainset_loader, optimizer, criterion, 1)"
   ]
  },
  {
   "cell_type": "code",
   "execution_count": 10,
   "metadata": {},
   "outputs": [
    {
     "data": {
      "image/png": "[encoded data removed]",
      "text/plain": [
       "<Figure size 432x288 with 1 Axes>"
      ]
     },
     "metadata": {
      "needs_background": "light"
     },
     "output_type": "display_data"
    },
    {
     "data": {
      "image/png": "[encoded data removed]",
      "text/plain": [
       "<Figure size 432x288 with 1 Axes>"
      ]
     },
     "metadata": {
      "needs_background": "light"
     },
     "output_type": "display_data"
    }
   ],
   "source": [
    "# Visualize re-trained decoder\n",
    "\n",
    "images, labels = iter(test_loader).next()\n",
    "imshow(torchvision.utils.make_grid(images))\n",
    "net.set_eval_decoder()\n",
    "outputs = net(images)\n",
    "imshow(torchvision.utils.make_grid(outputs))"
   ]
  },
  {
   "cell_type": "code",
   "execution_count": null,
   "metadata": {},
   "outputs": [],
   "source": []
  }
 ],
 "metadata": {
  "kernelspec": {
   "display_name": "ds",
   "language": "python",
   "name": "ds"
  },
  "language_info": {
   "codemirror_mode": {
    "name": "ipython",
    "version": 3
   },
   "file_extension": ".py",
   "mimetype": "text/x-python",
   "name": "python",
   "nbconvert_exporter": "python",
   "pygments_lexer": "ipython3",
   "version": "3.7.4"
  }
 },
 "nbformat": 4,
 "nbformat_minor": 2
}
