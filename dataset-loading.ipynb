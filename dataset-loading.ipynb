{
 "cells": [
  {
   "cell_type": "code",
   "execution_count": 8,
   "id": "7b4a045a-67e0-4be7-b0e8-39fc4fba64c2",
   "metadata": {
    "tags": []
   },
   "outputs": [],
   "source": [
    "import webdataset as wds\n",
    "import torch\n",
    "import matplotlib.pyplot as plt\n",
    "import glob\n",
    "import matplotlib\n",
    "import tqdm\n",
    "import numpy as np\n",
    "import lz4.frame"
   ]
  },
  {
   "cell_type": "code",
   "execution_count": 2,
   "id": "c985aecc-460a-43f8-9cd0-22bff9170b55",
   "metadata": {
    "tags": []
   },
   "outputs": [],
   "source": [
    "base_dir = \"/Users/rfink/git/pytorch-exp/data\"\n",
    "web_dataset = f\"{base_dir}/dataset.tar\""
   ]
  },
  {
   "cell_type": "code",
   "execution_count": 65,
   "id": "214ef931-bcaa-4b16-b927-a3f74509425b",
   "metadata": {
    "tags": []
   },
   "outputs": [
    {
     "name": "stderr",
     "output_type": "stream",
     "text": [
      "3204it [00:00, 4918.62it/s]"
     ]
    },
    {
     "name": "stdout",
     "output_type": "stream",
     "text": [
      "Files: 3204\n",
      "Size: 993161797\n"
     ]
    },
    {
     "name": "stderr",
     "output_type": "stream",
     "text": [
      "\n"
     ]
    }
   ],
   "source": [
    "dataset = wds.WebDataset(web_dataset).shuffle(1000).to_tuple(\"jpg\", \"json\")\n",
    "# decode(\"rgb\").\n",
    "num_files = 0\n",
    "size = 0\n",
    "for image, json in tqdm.tqdm(dataset):\n",
    "    num_files += 1\n",
    "    # size += image.size\n",
    "    size += len(image)\n",
    "print(f\"Files: {num_files}\")\n",
    "print(f\"Size: {size}\")"
   ]
  },
  {
   "cell_type": "code",
   "execution_count": 66,
   "id": "91e01777-987f-4a09-b573-213705c5e115",
   "metadata": {},
   "outputs": [
    {
     "name": "stderr",
     "output_type": "stream",
     "text": [
      "100%|█████████████████████████████████████████████| 3204/3204 [00:25<00:00, 124.62it/s]"
     ]
    },
    {
     "name": "stdout",
     "output_type": "stream",
     "text": [
      "Files: 3204\n",
      "Size: 7107416832\n"
     ]
    },
    {
     "name": "stderr",
     "output_type": "stream",
     "text": [
      "\n"
     ]
    }
   ],
   "source": [
    "num_files = 0\n",
    "size = 0\n",
    "for file in tqdm.tqdm(glob.glob(f\"{base_dir}/dataset2/*.jpg\")):\n",
    "    num_files += 1\n",
    "    \n",
    "    image = matplotlib.image.imread(file)\n",
    "    size += image.size\n",
    "    \n",
    "    # with open(file, mode='rb') as file:\n",
    "    #     content = file.read()\n",
    "    #     size += len(content)\n",
    "    \n",
    "    \n",
    "print(f\"Files: {num_files}\")\n",
    "print(f\"Size: {size}\")"
   ]
  },
  {
   "cell_type": "code",
   "execution_count": 83,
   "id": "a8e8581b-0f7e-44ab-b9f8-354eb284b3f7",
   "metadata": {
    "tags": []
   },
   "outputs": [
    {
     "name": "stderr",
     "output_type": "stream",
     "text": [
      " 34%|███████████████▋                              | 1094/3204 [00:17<00:26, 78.88it/s]"
     ]
    },
    {
     "name": "stdout",
     "output_type": "stream",
     "text": [
      "Unsupported SGI image mode\n"
     ]
    },
    {
     "name": "stderr",
     "output_type": "stream",
     "text": [
      " 66%|█████████████████████████████▋               | 2118/3204 [00:28<00:10, 100.26it/s]"
     ]
    },
    {
     "name": "stdout",
     "output_type": "stream",
     "text": [
      "Unsupported SGI image mode\n"
     ]
    },
    {
     "name": "stderr",
     "output_type": "stream",
     "text": [
      "100%|██████████████████████████████████████████████| 3204/3204 [00:39<00:00, 81.71it/s]"
     ]
    },
    {
     "name": "stdout",
     "output_type": "stream",
     "text": [
      "Files: 3204\n"
     ]
    },
    {
     "name": "stderr",
     "output_type": "stream",
     "text": [
      "\n"
     ]
    }
   ],
   "source": [
    "from PIL import Image\n",
    "from pathlib import Path\n",
    "\n",
    "num_files = 0\n",
    "for file in tqdm.tqdm(glob.glob(f\"{base_dir}/dataset2/*.jpg\")):\n",
    "    num_files += 1\n",
    "    try:\n",
    "        image = Image.open(file)\n",
    "        image.save(f\"{base_dir}/dataset/{Path(file).name}.rgb\")\n",
    "    except Exception as e:\n",
    "        print(e)\n",
    "    \n",
    "print(f\"Files: {num_files}\")"
   ]
  },
  {
   "cell_type": "code",
   "execution_count": 9,
   "id": "2b87d6cd-24e8-4b83-ac1f-387a21e76061",
   "metadata": {
    "tags": []
   },
   "outputs": [
    {
     "name": "stderr",
     "output_type": "stream",
     "text": [
      "3202it [00:06, 493.56it/s]"
     ]
    },
    {
     "name": "stdout",
     "output_type": "stream",
     "text": [
      "Files: 3202\n",
      "Size: 7102916352\n"
     ]
    },
    {
     "name": "stderr",
     "output_type": "stream",
     "text": [
      "\n"
     ]
    }
   ],
   "source": [
    "dataset = wds.WebDataset(f\"{base_dir}/dataset/lz4s.tar\").shuffle(1000).to_tuple(\"jpg.rgb.lz4\")\n",
    "\n",
    "num_files = 0\n",
    "size = 0\n",
    "for image, in tqdm.tqdm(dataset):\n",
    "    num_files += 1\n",
    "    # size += image.size\n",
    "    decompressed = lz4.frame.decompress(image)\n",
    "    size += len(decompressed)\n",
    "print(f\"Files: {num_files}\")\n",
    "print(f\"Size: {size}\")"
   ]
  }
 ],
 "metadata": {
  "kernelspec": {
   "display_name": "pytorch-exp",
   "language": "python",
   "name": "pytorch-exp"
  },
  "language_info": {
   "codemirror_mode": {
    "name": "ipython",
    "version": 3
   },
   "file_extension": ".py",
   "mimetype": "text/x-python",
   "name": "python",
   "nbconvert_exporter": "python",
   "pygments_lexer": "ipython3",
   "version": "3.11.2"
  }
 },
 "nbformat": 4,
 "nbformat_minor": 5
}
